{
 "cells": [
  {
   "cell_type": "code",
   "execution_count": 1,
   "id": "2c9f4d90",
   "metadata": {},
   "outputs": [],
   "source": [
    "import pymongo\n",
    "from pymongo import MongoClient\n",
    "from neo4j import GraphDatabase\n",
    "from py2neo import Graph, Node, Relationship"
   ]
  },
  {
   "cell_type": "code",
   "execution_count": 2,
   "id": "2a96fb58",
   "metadata": {},
   "outputs": [],
   "source": [
    "client = MongoClient('localhost', 27017)"
   ]
  },
  {
   "cell_type": "code",
   "execution_count": 3,
   "id": "58ae772a",
   "metadata": {},
   "outputs": [],
   "source": [
    "db = client['recipes']"
   ]
  },
  {
   "cell_type": "code",
   "execution_count": 4,
   "id": "8cf878b2",
   "metadata": {},
   "outputs": [],
   "source": [
    "collection = db['recipe_data']"
   ]
  },
  {
   "cell_type": "code",
   "execution_count": 5,
   "id": "56de449d",
   "metadata": {},
   "outputs": [],
   "source": [
    "# Connect to Neo4j\n",
    "driver = GraphDatabase.driver('bolt://localhost:7687', auth=('neo4j', 'neo4jANJALI'))\n",
    "session = driver.session(database=\"recipes\")"
   ]
  },
  {
   "cell_type": "code",
   "execution_count": 6,
   "id": "e616d519",
   "metadata": {},
   "outputs": [],
   "source": [
    "# Query recipe data from MongoDB\n",
    "recipe_data = collection.find()\n",
    "\n",
    "# Iterate through each recipe document and create a recipe node in Neo4j\n",
    "for recipe in recipe_data:\n",
    "    name = recipe['name']\n",
    "    url = recipe['url']\n",
    "    recipeType = recipe['recipeType']\n",
    "    keywords = recipe['keywords']\n",
    "    description = recipe['description']\n",
    "    steps = recipe['steps']\n",
    "    \n",
    "    # Create a recipe node in Neo4j using Cypher query\n",
    "    with driver.session() as session:\n",
    "        session.run(\"CREATE (:Recipe {name: $name, url: $url, recipeType: $recipeType, keywords: $keywords, \"\n",
    "                    \"description: $description, steps: $steps})\", name=name, url=url, recipeType=recipeType,\n",
    "                    keywords=keywords, description=description, steps=steps)\n",
    "        \n",
    "        "
   ]
  },
  {
   "cell_type": "code",
   "execution_count": null,
   "id": "74e793a8",
   "metadata": {},
   "outputs": [],
   "source": []
  }
 ],
 "metadata": {
  "kernelspec": {
   "display_name": "Python 3 (ipykernel)",
   "language": "python",
   "name": "python3"
  },
  "language_info": {
   "codemirror_mode": {
    "name": "ipython",
    "version": 3
   },
   "file_extension": ".py",
   "mimetype": "text/x-python",
   "name": "python",
   "nbconvert_exporter": "python",
   "pygments_lexer": "ipython3",
   "version": "3.8.10"
  }
 },
 "nbformat": 4,
 "nbformat_minor": 5
}
